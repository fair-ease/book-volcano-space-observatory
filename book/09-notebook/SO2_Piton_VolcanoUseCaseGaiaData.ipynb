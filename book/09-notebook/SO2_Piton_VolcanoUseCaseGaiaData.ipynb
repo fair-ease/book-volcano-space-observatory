{
 "cells": [
  {
   "cell_type": "markdown",
   "id": "9962d998",
   "metadata": {},
   "source": [
    "# Estimate SO2 flux emitted by Piton de la Fournaise volcano\n",
    "# using Sentinel-5P TROPOMI data\n",
    "\n",
    "## This notebook demonstrates how to estimate SO2 (sulfur dioxide) flux emitted by Piton de la Fournaise volcano, using SO2 mass burdens from Sentinel-5P TROPOMI imagery.\n",
    "\n",
    "## Mass burdens are extracted the VolcPlume portal (https://www.icare.univ-lille.fr/volcplume), and results are stored on the EaSy Data repository (https://doi.org/10.57932/235f8c42-142b-40ee-9948-518e83554a7d).\n",
    "\n",
    "## The notebook shows how mass can be converted to SO2 flux using the method described in Grandin et al. (2024).\n",
    "\n",
    "\n",
    "#### Reference (JGR-Solid Earth)\n",
    "\n",
    "Grandin, R., Boichu, M., Mathurin, T., & Pascal, N. (2024).\\\n",
    "Automatic estimation of daily volcanic sulfur dioxide gas flux from TROPOMI satellite observations: Application to Etna and Piton de la Fournaise.\\\n",
    "Journal of Geophysical Research: Solid Earth, 129(6), e2024JB029309.\\\n",
    "https://doi.org/10.1029/2024JB029309\n",
    "\n",
    "#### Algorithm source (ICARE GitLab)\n",
    "\n",
    "https://git.icare.univ-lille.fr/icare-public/so2-flux-calculator\n",
    "\n",
    "#### Dataset (EaSy Data repository)\n",
    "\n",
    "Grandin, R., Boichu, M., Mathurin, T., & Pascal, N. (2024b).\\\n",
    "Sulfur Dioxide emissions from Etna and Piton de la Fournaise volcanoes (2021-2023)\n",
    "from Sentinel-5P/TROPOMI [Dataset].\\\n",
    "https://doi.org/10.57932/235f8c42-142b-40ee-9948-518e83554a7d\n",
    "\n",
    "#### VolcPlume portal\n",
    "\n",
    "Boichu, M and Mathurin, T (2022)\\\n",
    "\"VOLCPLUME, an interactive web portal for the multiscale analysis\n",
    "of volcanic plume physico-chemical properties.\".\\\n",
    "[Interactive Web based Ressource]\\\n",
    "Direct access: https://www.icare.univ-lille.fr/volcplume \\\n",
    "https://doi.org/10.25326/362\n",
    "\n",
    "### Author: Raphaël Grandin - March 2025 - grandin - at - ipgp.fr\n"
   ]
  },
  {
   "cell_type": "markdown",
   "id": "fbf36c02",
   "metadata": {},
   "source": [
    "## Import packages"
   ]
  },
  {
   "cell_type": "code",
   "execution_count": null,
   "id": "61b182ab",
   "metadata": {},
   "outputs": [],
   "source": [
    "# For installation, please follow guidelines in https://gitlab.in2p3.fr/ForMaTer/gaia-data/use-case-volcan/so2-tropomi\n",
    "from so2_tropomi import *\n",
    "from so2_flux_calculator.command_line import read_mass_from_csv, read_cf_from_csv"
   ]
  },
  {
   "cell_type": "markdown",
   "id": "d082c6f5",
   "metadata": {},
   "source": [
    "## Search for product in Easy Data repository"
   ]
  },
  {
   "cell_type": "markdown",
   "id": "f1df2bf8",
   "metadata": {},
   "source": [
    "### Setup search API"
   ]
  },
  {
   "cell_type": "code",
   "execution_count": null,
   "id": "a72d94a1",
   "metadata": {},
   "outputs": [],
   "source": [
    "EASY_DATA_API_URL=\"https://www.easydata.earth/api/csw\""
   ]
  },
  {
   "cell_type": "markdown",
   "id": "acc9e6e9",
   "metadata": {},
   "source": [
    "### Search product and dataset using bounding box"
   ]
  },
  {
   "cell_type": "code",
   "execution_count": null,
   "id": "3c55cbb3",
   "metadata": {},
   "outputs": [],
   "source": [
    "string_search = \"Piton de la Fournaise\"\n",
    "bbox = \"151.09596,-33.609279,151.336939,-33.479914\"\n",
    "request_url = EASY_DATA_API_URL + \"?REQUEST=GetRecords&SERVICE=CSW&VERSION=2.0.2&namespace=xmlns(csw=http%3A%2F%2Fwww.opengis.net%2Fcat%2Fcsw%2F2.0.2)&OUTPUTSCHEMA=http://www.isotc211.org/2005/gmd&constraintLanguage=CQL_TEXT&constraint_language_version=1.1.0&constraint=csw:title+LIKE+'\" + string_search + \"'&typeNames=csw:Record&resultType=results&ElementSetName=brief\"\n",
    "request_url"
   ]
  },
  {
   "cell_type": "code",
   "execution_count": null,
   "id": "626f07ae",
   "metadata": {},
   "outputs": [],
   "source": [
    "r = requests.get(request_url, allow_redirects=True, headers=headers)#.json()#['data']\n",
    "root = ET.fromstring(r.text)\n",
    "ET.dump(root)"
   ]
  },
  {
   "cell_type": "markdown",
   "id": "6581bb46",
   "metadata": {},
   "source": [
    "### The above search allows for identifying the product and dataset IDs"
   ]
  },
  {
   "cell_type": "code",
   "execution_count": null,
   "id": "9bf04860",
   "metadata": {},
   "outputs": [],
   "source": [
    "# ID of the product \"Volcanic Sulfur Dioxide emissions from Sentinel-5P/TROPOMI (Etna and Piton de la Fournaise)\"\n",
    "PRODUCT_ID=\"b6d83680-00ac-4d7f-9651-5eac38c3c42f\"\n",
    "# Dataset ID (last part of the DOI)\n",
    "DATASET_ID=\"235f8c42-142b-40ee-9948-518e83554a7d\""
   ]
  },
  {
   "cell_type": "markdown",
   "id": "e36a6ddf",
   "metadata": {},
   "source": [
    "### Search within product"
   ]
  },
  {
   "cell_type": "code",
   "execution_count": null,
   "id": "31e26e8c",
   "metadata": {},
   "outputs": [],
   "source": [
    "request_url = EASY_DATA_API_URL + \"?service=CSW&request=GetRecordById&version=2.0.2&id=%s\" % PRODUCT_ID\n",
    "display(request_url)\n",
    "\n",
    "r = requests.get(request_url, allow_redirects=True, headers=headers)#.json()#['data']\n",
    "root = ET.fromstring(r.text)\n",
    "ET.dump(root)\n",
    "#tree#.write(\"file.xml\")"
   ]
  },
  {
   "cell_type": "markdown",
   "id": "eded53d6",
   "metadata": {},
   "source": [
    "### Search within dataset"
   ]
  },
  {
   "cell_type": "code",
   "execution_count": null,
   "id": "4e8e677d",
   "metadata": {},
   "outputs": [],
   "source": [
    "request_url = EASY_DATA_API_URL + \"?service=CSW&request=GetRecordById&version=2.0.2&id=%s&ElementSetName=full\" % DATASET_ID\n",
    "display(request_url)"
   ]
  },
  {
   "cell_type": "code",
   "execution_count": null,
   "id": "94dfe238",
   "metadata": {},
   "outputs": [],
   "source": [
    "r = requests.get(request_url, allow_redirects=True, headers=headers)#.json()#['data']\n",
    "root = ET.fromstring(r.text)\n",
    "ET.dump(root)"
   ]
  },
  {
   "cell_type": "markdown",
   "id": "60a56301",
   "metadata": {},
   "source": [
    "## Download data"
   ]
  },
  {
   "cell_type": "markdown",
   "id": "fad97500",
   "metadata": {},
   "source": [
    "### Dataset URL"
   ]
  },
  {
   "cell_type": "code",
   "execution_count": null,
   "id": "7d20ecca",
   "metadata": {},
   "outputs": [],
   "source": [
    "data_in_SO2_mass_URL = \"https://www.easydata.earth/back/public-api/v1/metadata/datasets/235f8c42-142b-40ee-9948-518e83554a7d/files/TROPOMI_SO2-7km_mass_25-50-75-100-150-200-250-300-400-500km_Fournaise-Piton-de-la_sza-90_tracks-7_du-0_qa-0_2021-09-15_2023-09-14.csv\"\n",
    "data_in_cloud_fraction_URL = \"https://www.easydata.earth/back/public-api/v1/metadata/datasets/235f8c42-142b-40ee-9948-518e83554a7d/files/TROPOMI_CloudFraction_mean_25-50-75-100-150-200-250-300-400-500km_Fournaise-Piton-de-la_sza-90_tracks-7_qa-0_2021-09-15_2023-09-14.csv\""
   ]
  },
  {
   "cell_type": "markdown",
   "id": "51a174a7",
   "metadata": {},
   "source": [
    "### Read SO2 mass and cloud fraction"
   ]
  },
  {
   "cell_type": "code",
   "execution_count": null,
   "id": "a1fd8854",
   "metadata": {},
   "outputs": [],
   "source": [
    "def filename_from_url(url):\n",
    "    r = requests.get(url, headers=headers)\n",
    "    filename = get_filename_from_cd(r.headers.get('content-disposition'))\n",
    "    with open(filename, 'wb') as file:\n",
    "        file.write(r.content)\n",
    "    return filename   \n",
    "\n",
    "# Save files locally\n",
    "localfilename_so2 = filename_from_url(data_in_SO2_mass_URL)\n",
    "localfilename_cf = filename_from_url(data_in_cloud_fraction_URL)\n",
    "\n",
    "# Read CSV\n",
    "df_so2_mass = read_mass_from_csv(localfilename_so2, utc_time=0)\n",
    "df_cf = read_cf_from_csv(localfilename_cf, utc_time=0)\n",
    "\n",
    "# Display result\n",
    "display(df_so2_mass.head(), df_cf.head())"
   ]
  },
  {
   "cell_type": "markdown",
   "id": "e189255e",
   "metadata": {},
   "source": [
    "### Compute SO2 flux with fixed wind speed"
   ]
  },
  {
   "cell_type": "code",
   "execution_count": null,
   "id": "7de417bb",
   "metadata": {
    "lines_to_next_cell": 2
   },
   "outputs": [],
   "source": [
    "from so2_flux_calculator.command_line import run\n",
    "run(csv_in_mass=localfilename_so2,\n",
    "    cloud_fraction_file=localfilename_cf,\n",
    "    output_directory='.',\n",
    "    output_file=\"Piton_SO2_flux\",\n",
    "    wind_speed_fixed=6)"
   ]
  },
  {
   "cell_type": "code",
   "execution_count": null,
   "id": "287cd427",
   "metadata": {},
   "outputs": [],
   "source": [
    "## Uncomment lines below to display PNG in cell\n",
    "from IPython.display import Image\n",
    "Image(\"Piton_SO2_flux.png\")"
   ]
  },
  {
   "cell_type": "markdown",
   "id": "f1c5d592",
   "metadata": {},
   "source": [
    "![title](Piton_SO2_flux.png)"
   ]
  },
  {
   "cell_type": "markdown",
   "id": "25686653",
   "metadata": {},
   "source": [
    "### Interactive version (opens in new tab)"
   ]
  },
  {
   "cell_type": "code",
   "execution_count": null,
   "id": "81c38a14",
   "metadata": {},
   "outputs": [],
   "source": [
    "run(csv_in_mass=localfilename_so2,\n",
    "    cloud_fraction_file=localfilename_cf,\n",
    "    output_directory='.',\n",
    "    output_file=\"Piton_SO2_flux\",\n",
    "    wind_speed_fixed=6,\n",
    "    interactive_figure=True)"
   ]
  },
  {
   "cell_type": "code",
   "execution_count": null,
   "id": "65ff74b7",
   "metadata": {},
   "outputs": [],
   "source": []
  }
 ],
 "metadata": {
  "jupytext": {
   "formats": "ipynb,py:percent"
  },
  "kernelspec": {
   "display_name": "Python 3 (ipykernel)",
   "language": "python",
   "name": "python3"
  }
 },
 "nbformat": 4,
 "nbformat_minor": 5
}
