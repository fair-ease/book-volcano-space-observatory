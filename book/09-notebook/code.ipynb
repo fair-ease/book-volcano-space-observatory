{
 "cells": [
  {
   "cell_type": "code",
   "execution_count": null,
   "id": "5e44a7c9",
   "metadata": {},
   "outputs": [],
   "source": [
    "import numpy as np\n",
    "import matplotlib.pyplot as plt\n",
    "plt.ion()"
   ]
  },
  {
   "cell_type": "code",
   "execution_count": null,
   "id": "b014216a",
   "metadata": {},
   "outputs": [],
   "source": [
    "x = np.arange(500)\n",
    "y = np.random.randn(500)"
   ]
  },
  {
   "cell_type": "code",
   "execution_count": null,
   "id": "4bd1f434",
   "metadata": {},
   "outputs": [],
   "source": [
    "fig, ax = plt.subplots()\n",
    "ax.scatter(x, y, c=y, s=x)"
   ]
  }
 ],
 "metadata": {
  "jupytext": {
   "cell_metadata_filter": "-all",
   "main_language": "python",
   "notebook_metadata_filter": "-all"
  }
 },
 "nbformat": 4,
 "nbformat_minor": 5
}
